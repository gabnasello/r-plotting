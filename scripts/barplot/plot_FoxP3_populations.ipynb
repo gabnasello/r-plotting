{
 "cells": [
  {
   "cell_type": "markdown",
   "id": "2ec4e18a",
   "metadata": {},
   "source": [
    "<span STYLE=\"font-size:150%\"> \n",
    "    Plot population frequencies\n",
    "</span>\n",
    "\n",
    "Docker image: gnasello/datascience-env:2023-01-27 \\\n",
    "Latest update: 9 April 2023"
   ]
  },
  {
   "cell_type": "markdown",
   "id": "996b06d3",
   "metadata": {},
   "source": [
    "# Load required packages and data"
   ]
  },
  {
   "cell_type": "code",
   "execution_count": null,
   "id": "3391cdad",
   "metadata": {
    "tags": [],
    "vscode": {
     "languageId": "r"
    }
   },
   "outputs": [],
   "source": [
    "library(ggplot2)\n",
    "library(ggpubr)"
   ]
  },
  {
   "cell_type": "markdown",
   "id": "0bbb92cb",
   "metadata": {},
   "source": [
    "Clone the [r_utils library](https://github.com/gabnasello/r_utils.git) from GitHub in the same folder of this script. \n",
    "\n",
    "You can simply running the following command in a new terminal (open it from JupyterLab):\n",
    "\n",
    "`git clone https://github.com/gabnasello/r_utils.git`\n",
    "\n",
    "How to Reuse Functions That You Create In Scripts, [tutorial](https://www.earthdatascience.org/courses/earth-analytics/multispectral-remote-sensing-data/source-function-in-R/)"
   ]
  },
  {
   "cell_type": "code",
   "execution_count": null,
   "id": "3b96add2",
   "metadata": {
    "tags": [],
    "vscode": {
     "languageId": "r"
    }
   },
   "outputs": [],
   "source": [
    "source(\"../r_utils/ggplot_utils.R\")\n",
    "source(\"../r_utils/stats_utils.R\")"
   ]
  },
  {
   "cell_type": "markdown",
   "id": "4595bc27",
   "metadata": {},
   "source": [
    "Set the parameters of the `cyto_plot()` function"
   ]
  },
  {
   "cell_type": "code",
   "execution_count": null,
   "id": "a87a5935",
   "metadata": {
    "tags": [],
    "vscode": {
     "languageId": "r"
    }
   },
   "outputs": [],
   "source": [
    "label_text_size = 1.4; label_fill_alpha = 0.2; label_text_font = 1\n",
    "axes_text_size = 1.4\n",
    "axes_label_text_size = 1.6; title_text_size = 1.5; header_text_size = 1.3\n",
    "legend_text_size = 1.7"
   ]
  },
  {
   "cell_type": "markdown",
   "id": "838ca90e",
   "metadata": {},
   "source": [
    "## Load data"
   ]
  },
  {
   "cell_type": "code",
   "execution_count": null,
   "id": "9d3a4c78",
   "metadata": {
    "tags": [],
    "vscode": {
     "languageId": "r"
    }
   },
   "outputs": [],
   "source": [
    "#create data frame with 0 rows and 5 columns\n",
    "df <- data.frame(matrix(ncol = 5, nrow = 0))\n",
    "\n",
    "#provide column names\n",
    "colnames(df) <- c('name','Population','Parent','Frequency','group')"
   ]
  },
  {
   "cell_type": "code",
   "execution_count": null,
   "id": "5579311f",
   "metadata": {
    "tags": [],
    "vscode": {
     "languageId": "r"
    }
   },
   "outputs": [],
   "source": [
    "filetable <- 'data/Control_FoxP3_freq.csv'\n",
    "group <- 'Control'\n",
    "\n",
    "\n",
    "df_dataset <- read.csv(file=filetable)\n",
    "df_dataset['group'] <- rep(group, nrow(df_dataset))\n",
    "\n",
    "df_dataset\n",
    "\n",
    "# Adding Rows in dataframes\n",
    "# https://www.statmethods.net/management/merging.html\n",
    "df <- rbind(df, df_dataset)"
   ]
  },
  {
   "cell_type": "code",
   "execution_count": null,
   "id": "78814231",
   "metadata": {
    "tags": [],
    "vscode": {
     "languageId": "r"
    }
   },
   "outputs": [],
   "source": [
    "filetable <- 'data/RD1_FoxP3_freq.csv'\n",
    "group <- 'RD1'\n",
    "\n",
    "\n",
    "df_dataset <- read.csv(file=filetable)\n",
    "df_dataset['group'] <- rep(group, length(df_dataset))\n",
    "\n",
    "df_dataset\n",
    "\n",
    "# Adding Rows in dataframes\n",
    "# https://www.statmethods.net/management/merging.html\n",
    "df <- rbind(df, df_dataset)"
   ]
  },
  {
   "cell_type": "code",
   "execution_count": null,
   "id": "2a925f38",
   "metadata": {
    "tags": [],
    "vscode": {
     "languageId": "r"
    }
   },
   "outputs": [],
   "source": [
    "filetable <- 'data/RD3_FoxP3_freq.csv'\n",
    "group <- 'RD3'\n",
    "\n",
    "\n",
    "df_dataset <- read.csv(file=filetable)\n",
    "df_dataset['group'] <- rep(group, length(df_dataset))\n",
    "\n",
    "df_dataset\n",
    "\n",
    "# Adding Rows in dataframes\n",
    "# https://www.statmethods.net/management/merging.html\n",
    "df <- rbind(df, df_dataset)"
   ]
  },
  {
   "cell_type": "code",
   "execution_count": null,
   "id": "490ea611",
   "metadata": {
    "tags": [],
    "vscode": {
     "languageId": "r"
    }
   },
   "outputs": [],
   "source": [
    "filetable <- 'data/RD5_FoxP3_freq.csv'\n",
    "group <- 'RD5'\n",
    "\n",
    "\n",
    "df_dataset <- read.csv(file=filetable)\n",
    "df_dataset['group'] <- rep(group, length(df_dataset))\n",
    "\n",
    "df_dataset\n",
    "\n",
    "# Adding Rows in dataframes\n",
    "# https://www.statmethods.net/management/merging.html\n",
    "df <- rbind(df, df_dataset)"
   ]
  },
  {
   "cell_type": "code",
   "execution_count": null,
   "id": "f93fca86",
   "metadata": {
    "tags": [],
    "vscode": {
     "languageId": "r"
    }
   },
   "outputs": [],
   "source": [
    "filetable <- 'data/AS_FoxP3_freq.csv'\n",
    "group <- 'AS2863619'\n",
    "\n",
    "\n",
    "df_dataset <- read.csv(file=filetable)\n",
    "df_dataset['group'] <- rep(group, length(df_dataset))\n",
    "\n",
    "df_dataset\n",
    "\n",
    "# Adding Rows in dataframes\n",
    "# https://www.statmethods.net/management/merging.html\n",
    "df <- rbind(df, df_dataset)"
   ]
  },
  {
   "cell_type": "markdown",
   "id": "1dc166bb",
   "metadata": {},
   "source": [
    "## Show whole dataset"
   ]
  },
  {
   "cell_type": "code",
   "execution_count": null,
   "id": "5e3574f5",
   "metadata": {
    "tags": [],
    "vscode": {
     "languageId": "r"
    }
   },
   "outputs": [],
   "source": [
    "df"
   ]
  },
  {
   "cell_type": "markdown",
   "id": "f804b43b",
   "metadata": {},
   "source": [
    "## Summarize the data"
   ]
  },
  {
   "cell_type": "markdown",
   "id": "ac7c0feb",
   "metadata": {},
   "source": [
    "The function below will be used to calculate the mean and the standard deviation, for the variable of interest, in each group. See [tutorial](http://www.sthda.com/english/wiki/ggplot2-line-plot-quick-start-guide-r-software-and-data-visualization#line-graph-with-error-bars)"
   ]
  },
  {
   "cell_type": "code",
   "execution_count": null,
   "id": "e94e4940",
   "metadata": {
    "tags": [],
    "vscode": {
     "languageId": "r"
    }
   },
   "outputs": [],
   "source": [
    "df1 <- data_summary(df, varname=\"Frequency\", \n",
    "                    groupnames=c(\"group\"))\n",
    "df1"
   ]
  },
  {
   "cell_type": "markdown",
   "id": "52244fdf-75b1-4016-9729-9a13bf37de37",
   "metadata": {},
   "source": [
    "Sort by player with custom order, as described [here](https://www.statology.org/arrange-rows-r/)"
   ]
  },
  {
   "cell_type": "code",
   "execution_count": null,
   "id": "851d4205-a469-4864-a89d-06ce619a38b9",
   "metadata": {
    "tags": [],
    "vscode": {
     "languageId": "r"
    }
   },
   "outputs": [],
   "source": [
    "df1<- df1 %>% arrange(factor(group, levels = c('Control', 'RD1', 'RD3', 'RD5', 'AS2863619')))\n",
    "df1"
   ]
  },
  {
   "cell_type": "markdown",
   "id": "fe31a144",
   "metadata": {},
   "source": [
    "# Plot data"
   ]
  },
  {
   "cell_type": "code",
   "execution_count": null,
   "id": "349017d0-049c-4a5d-aef1-b450abef15e9",
   "metadata": {
    "tags": [],
    "vscode": {
     "languageId": "r"
    }
   },
   "outputs": [],
   "source": [
    "p <- ggbarplot(df1, x = \"group\", y = \"Frequency\", fill = \"group\") + \n",
    "               geom_errorbar(aes(ymin=Frequency-sd, ymax=Frequency+sd), width=.4) +\n",
    "     geom_point(data=df, aes(x=group, y=Frequency), stroke = 1, shape = 21, size = 2.25)\n",
    "\n",
    "img <- ggplotMinAethetics(p, width=2.5, height=4,\n",
    "                          plot.title=element_text(size = 13),\n",
    "                          xlabel=' ', \n",
    "                          ylabel='FoxP3+ Frequency (%)', \n",
    "                          scale_fill='npg',\n",
    "                          legend.position=\"none\"\n",
    "                          ) + \n",
    "       scale_y_continuous(expand=c(0,0), limits=c(0,65)) + \n",
    "       theme(axis.text.x = element_text(angle = 60, vjust = 1, hjust=1))\n",
    "\n",
    "img"
   ]
  },
  {
   "cell_type": "code",
   "execution_count": null,
   "id": "45111a69-333d-4114-9e87-7553b26d0fff",
   "metadata": {
    "vscode": {
     "languageId": "r"
    }
   },
   "outputs": [],
   "source": []
  }
 ],
 "metadata": {
  "kernelspec": {
   "display_name": "R",
   "language": "R",
   "name": "ir"
  },
  "language_info": {
   "codemirror_mode": "r",
   "file_extension": ".r",
   "mimetype": "text/x-r-source",
   "name": "R",
   "pygments_lexer": "r",
   "version": "4.2.3"
  }
 },
 "nbformat": 4,
 "nbformat_minor": 5
}
